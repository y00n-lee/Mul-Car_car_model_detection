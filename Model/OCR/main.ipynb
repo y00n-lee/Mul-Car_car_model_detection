version https://git-lfs.github.com/spec/v1
oid sha256:f04814f54a7d34ff967c0724f69b3e4111d6fbf275b2a1507b83f15de0266543
size 1502954
