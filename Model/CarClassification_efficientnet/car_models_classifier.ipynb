version https://git-lfs.github.com/spec/v1
oid sha256:696750b1fed3cd8705ffcc7c89b87e3ad00280ad18097fe849c21afd42823150
size 243434
